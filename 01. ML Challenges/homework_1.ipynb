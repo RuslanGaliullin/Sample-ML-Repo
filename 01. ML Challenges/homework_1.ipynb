{
  "cells": [
    {
      "cell_type": "markdown",
      "id": "VvFvjNBH3QY3",
      "metadata": {
        "id": "VvFvjNBH3QY3"
      },
      "source": [
        "## Домашнее задание"
      ]
    },
    {
      "cell_type": "markdown",
      "id": "F1nB_pZ53TLc",
      "metadata": {
        "id": "F1nB_pZ53TLc"
      },
      "source": [
        "В этой тетрадке вам предлагается реализовать задания при помощи библиотеки numpy. Крайне желательно при выполнении разных заданий не использовать циклы. Если вы не понимаете, как выполнить конкретную задачу без циклов - убирайте их постепенно, разбейте выполнение задачи на этапы и постепенно векторизуйте каждый этап.\n",
        "\n",
        "Если вам непонятно, как выполнить ту или иную операцию - не стесняйтесь гуглить, если над вами повис дедлайн, а вы всё ещё на чём-то застряли - пишите преподу/в чат, это ок.\n",
        "\n",
        "**Обсудить решение лучше и сделать в итоге хоть что-то гораздо лучше, чем скатать чужой код или сдать пустую тетрадку.**"
      ]
    },
    {
      "cell_type": "code",
      "execution_count": 230,
      "id": "BxCGcHcxyAwh",
      "metadata": {
        "id": "BxCGcHcxyAwh"
      },
      "outputs": [],
      "source": [
        "import numpy as np"
      ]
    },
    {
      "cell_type": "markdown",
      "id": "byY0Ab4Jww36",
      "metadata": {
        "id": "byY0Ab4Jww36"
      },
      "source": [
        "### Drill (1 балл)"
      ]
    },
    {
      "cell_type": "markdown",
      "id": "g9nrcP5ExLOr",
      "metadata": {
        "id": "g9nrcP5ExLOr"
      },
      "source": [
        "Задание 1.\n",
        "\n",
        "Инициализируйте нулями массивы следующих форм:\n",
        "\n",
        "* (5)\n",
        "* (5, 1)\n",
        "* (10, 2)\n",
        "* (3, 6, 2)\n",
        "* (4, 3, 2, 1)"
      ]
    },
    {
      "cell_type": "code",
      "execution_count": 231,
      "id": "GDFryOCFwwO5",
      "metadata": {
        "id": "GDFryOCFwwO5",
        "colab": {
          "base_uri": "https://localhost:8080/"
        },
        "outputId": "1d1488a0-1528-42e8-dafe-7298a08c10b7"
      },
      "outputs": [
        {
          "output_type": "execute_result",
          "data": {
            "text/plain": [
              "array([[[[0.],\n",
              "         [0.]],\n",
              "\n",
              "        [[0.],\n",
              "         [0.]],\n",
              "\n",
              "        [[0.],\n",
              "         [0.]]],\n",
              "\n",
              "\n",
              "       [[[0.],\n",
              "         [0.]],\n",
              "\n",
              "        [[0.],\n",
              "         [0.]],\n",
              "\n",
              "        [[0.],\n",
              "         [0.]]],\n",
              "\n",
              "\n",
              "       [[[0.],\n",
              "         [0.]],\n",
              "\n",
              "        [[0.],\n",
              "         [0.]],\n",
              "\n",
              "        [[0.],\n",
              "         [0.]]],\n",
              "\n",
              "\n",
              "       [[[0.],\n",
              "         [0.]],\n",
              "\n",
              "        [[0.],\n",
              "         [0.]],\n",
              "\n",
              "        [[0.],\n",
              "         [0.]]]])"
            ]
          },
          "metadata": {},
          "execution_count": 231
        }
      ],
      "source": [
        "np.zeros(5)\n",
        "np.zeros((5, 1))\n",
        "np.zeros((10, 2))\n",
        "np.zeros((3, 6, 2))\n",
        "np.zeros((4, 3, 2, 1))"
      ]
    },
    {
      "cell_type": "markdown",
      "id": "nB5ePY6S5AWx",
      "metadata": {
        "id": "nB5ePY6S5AWx"
      },
      "source": [
        "Задание 2.\n",
        "\n",
        "Инициализируйте единицами массивы таких же форм и приведите их к целочисленному виду:"
      ]
    },
    {
      "cell_type": "code",
      "execution_count": 232,
      "id": "bW7_oEBw5Ga8",
      "metadata": {
        "id": "bW7_oEBw5Ga8",
        "colab": {
          "base_uri": "https://localhost:8080/"
        },
        "outputId": "bac170a5-bb38-4cec-9b2e-66afee61f6d9"
      },
      "outputs": [
        {
          "output_type": "execute_result",
          "data": {
            "text/plain": [
              "array([[[[1],\n",
              "         [1]],\n",
              "\n",
              "        [[1],\n",
              "         [1]],\n",
              "\n",
              "        [[1],\n",
              "         [1]]],\n",
              "\n",
              "\n",
              "       [[[1],\n",
              "         [1]],\n",
              "\n",
              "        [[1],\n",
              "         [1]],\n",
              "\n",
              "        [[1],\n",
              "         [1]]],\n",
              "\n",
              "\n",
              "       [[[1],\n",
              "         [1]],\n",
              "\n",
              "        [[1],\n",
              "         [1]],\n",
              "\n",
              "        [[1],\n",
              "         [1]]],\n",
              "\n",
              "\n",
              "       [[[1],\n",
              "         [1]],\n",
              "\n",
              "        [[1],\n",
              "         [1]],\n",
              "\n",
              "        [[1],\n",
              "         [1]]]])"
            ]
          },
          "metadata": {},
          "execution_count": 232
        }
      ],
      "source": [
        "array5 = np.ones(5).astype(int)\n",
        "array51 = np.ones((5, 1)).astype(int)\n",
        "array102 = np.ones((10, 2)).astype(int)\n",
        "array362 = np.ones((3, 6, 2)).astype(int)\n",
        "array4321 = np.ones((4, 3, 2, 1)).astype(int)\n",
        "array4321"
      ]
    },
    {
      "cell_type": "markdown",
      "id": "_S7FJFXexb3o",
      "metadata": {
        "id": "_S7FJFXexb3o"
      },
      "source": [
        "Задание 3.\n",
        "\n",
        "Выполните для векторов выше `reshape` в \"форму\"\n",
        "* с двумя компонентами\n",
        "* с тремя компонентами\n",
        "* с четырьмя компонентами"
      ]
    },
    {
      "cell_type": "code",
      "execution_count": 233,
      "id": "XDWmmsoYXBDP",
      "metadata": {
        "id": "XDWmmsoYXBDP",
        "colab": {
          "base_uri": "https://localhost:8080/",
          "height": 115
        },
        "outputId": "2daf485c-a387-4e4a-9af4-5e7465349690"
      },
      "outputs": [
        {
          "output_type": "display_data",
          "data": {
            "text/plain": [
              "array([[1, 1, 1, 1],\n",
              "       [1, 1, 1, 1],\n",
              "       [1, 1, 1, 1],\n",
              "       [1, 1, 1, 1],\n",
              "       [1, 1, 1, 1],\n",
              "       [1, 1, 1, 1]])"
            ]
          },
          "metadata": {}
        }
      ],
      "source": [
        "array362 = array362.reshape(-1, 2)\n",
        "array102 = array102.reshape(-1, 2)\n",
        "array4321 = array4321.reshape(-1, 2)\n",
        "array362 = array362.reshape(-1, 3)\n",
        "array4321 = array4321.reshape(-1, 3)\n",
        "array362 = array362.reshape(-1, 4)\n",
        "array102 = array102.reshape(-1, 4)\n",
        "array4321 = array4321.reshape(-1, 4)\n",
        "display(array4321)"
      ]
    },
    {
      "cell_type": "markdown",
      "id": "Kp3SvzHyxyPp",
      "metadata": {
        "id": "Kp3SvzHyxyPp"
      },
      "source": [
        "Задание 4.\n",
        "\n",
        "Для вектора ниже посчитайте его\n",
        "* Максимум по 1 оси\n",
        "* Минимум по 0 оси\n",
        "* Сумму по всем осям\n",
        "* Среднее по 0 оси\n",
        "* Медиану по 1 оси"
      ]
    },
    {
      "cell_type": "code",
      "execution_count": 234,
      "id": "5GcaTzGPx9Tk",
      "metadata": {
        "id": "5GcaTzGPx9Tk",
        "colab": {
          "base_uri": "https://localhost:8080/"
        },
        "outputId": "f3cbdd4c-0bef-42cf-fbe0-05910215420a"
      },
      "outputs": [
        {
          "output_type": "execute_result",
          "data": {
            "text/plain": [
              "array([[6, 2, 7, 0, 3, 7, 3],\n",
              "       [2, 3, 3, 5, 0, 1, 5],\n",
              "       [2, 8, 0, 0, 4, 0, 3],\n",
              "       [2, 0, 2, 5, 5, 7, 6],\n",
              "       [4, 2, 8, 7, 4, 5, 2]])"
            ]
          },
          "metadata": {},
          "execution_count": 234
        }
      ],
      "source": [
        "v = np.random.randint(0, 9, size=(5, 7))\n",
        "v"
      ]
    },
    {
      "cell_type": "code",
      "execution_count": 236,
      "id": "iZT6E7esxsI1",
      "metadata": {
        "id": "iZT6E7esxsI1",
        "colab": {
          "base_uri": "https://localhost:8080/",
          "height": 98
        },
        "outputId": "1b23eb79-c697-428e-a1f0-940ac7e37c4f"
      },
      "outputs": [
        {
          "output_type": "display_data",
          "data": {
            "text/plain": [
              "array([7, 5, 8, 7, 8])"
            ]
          },
          "metadata": {}
        },
        {
          "output_type": "display_data",
          "data": {
            "text/plain": [
              "array([2, 0, 0, 0, 0, 0, 2])"
            ]
          },
          "metadata": {}
        },
        {
          "output_type": "display_data",
          "data": {
            "text/plain": [
              "123"
            ]
          },
          "metadata": {}
        },
        {
          "output_type": "display_data",
          "data": {
            "text/plain": [
              "array([3.2, 3. , 4. , 3.4, 3.2, 4. , 3.8])"
            ]
          },
          "metadata": {}
        },
        {
          "output_type": "display_data",
          "data": {
            "text/plain": [
              "array([3., 3., 2., 5., 4.])"
            ]
          },
          "metadata": {}
        }
      ],
      "source": [
        "display(v.max(axis=1))\n",
        "display(v.min(axis=0))\n",
        "display(v.sum())\n",
        "display(v.mean(axis=0))\n",
        "display(np.median(v, axis=1))"
      ]
    },
    {
      "cell_type": "markdown",
      "id": "EiVqZFtpyOHm",
      "metadata": {
        "id": "EiVqZFtpyOHm"
      },
      "source": [
        "Задание 5.\n",
        "\n",
        "Для всё того же вектора `v` выведите\n",
        "* Его shape\n",
        "* 0 компоненту его \"формы\"\n",
        "* 1 компоненту его \"формы\""
      ]
    },
    {
      "cell_type": "code",
      "execution_count": 237,
      "id": "AazCPchWyYGa",
      "metadata": {
        "id": "AazCPchWyYGa",
        "colab": {
          "base_uri": "https://localhost:8080/",
          "height": 65
        },
        "outputId": "0bf53c55-9650-48e7-dffb-9b302704cd66"
      },
      "outputs": [
        {
          "output_type": "display_data",
          "data": {
            "text/plain": [
              "(5, 7)"
            ]
          },
          "metadata": {}
        },
        {
          "output_type": "display_data",
          "data": {
            "text/plain": [
              "5"
            ]
          },
          "metadata": {}
        },
        {
          "output_type": "display_data",
          "data": {
            "text/plain": [
              "7"
            ]
          },
          "metadata": {}
        }
      ],
      "source": [
        "display(v.shape)\n",
        "display(v.shape[0])\n",
        "display(v.shape[1])"
      ]
    },
    {
      "cell_type": "markdown",
      "id": "9bdU9sq1ygiF",
      "metadata": {
        "id": "9bdU9sq1ygiF"
      },
      "source": [
        "Задание 6.\n",
        "\n",
        "Для этого же вектора выведите\n",
        "* Все числа больше 5\n",
        "* Все числа меньше 7 в обратном порядке\n",
        "* Все числа больше 3, которые делятся на 4 без остатка\n",
        "* Все числа, остаток от деления на 5 которых равен 3\n",
        "* Индекс максимума\n",
        "* Индекс минимума\n",
        "* Cписок с индексами элементов отсортированного массива в исходном (неотсортированном)"
      ]
    },
    {
      "cell_type": "markdown",
      "id": "601cc16e",
      "metadata": {
        "id": "601cc16e"
      },
      "source": [
        ""
      ]
    },
    {
      "cell_type": "code",
      "execution_count": 239,
      "id": "WW0nmIYwyfLA",
      "metadata": {
        "id": "WW0nmIYwyfLA",
        "colab": {
          "base_uri": "https://localhost:8080/",
          "height": 247
        },
        "outputId": "bd769a32-2ba4-4ffd-986b-e532599c8794"
      },
      "outputs": [
        {
          "output_type": "stream",
          "name": "stdout",
          "text": [
            "Все числа больше 5\n"
          ]
        },
        {
          "output_type": "display_data",
          "data": {
            "text/plain": [
              "array([6, 7, 7, 8, 7, 6, 8, 7])"
            ]
          },
          "metadata": {}
        },
        {
          "output_type": "stream",
          "name": "stdout",
          "text": [
            "Все числа меньше 7 в обратном порядке\n"
          ]
        },
        {
          "output_type": "display_data",
          "data": {
            "text/plain": [
              "array([2, 5, 4, 2, 4, 6, 5, 5, 2, 0, 2, 3, 0, 4, 0, 0, 2, 5, 1, 0, 5, 3,\n",
              "       3, 2, 3, 3, 0, 2, 6])"
            ]
          },
          "metadata": {}
        },
        {
          "output_type": "stream",
          "name": "stdout",
          "text": [
            "Все числа больше 3, которые делятся на 4 без остатка\n"
          ]
        },
        {
          "output_type": "display_data",
          "data": {
            "text/plain": [
              "array([8, 4, 4, 8, 4])"
            ]
          },
          "metadata": {}
        },
        {
          "output_type": "stream",
          "name": "stdout",
          "text": [
            "Все числа, остаток от деления на 5 которых равен 3\n"
          ]
        },
        {
          "output_type": "display_data",
          "data": {
            "text/plain": [
              "array([3, 3, 3, 3, 8, 3, 8])"
            ]
          },
          "metadata": {}
        },
        {
          "output_type": "stream",
          "name": "stdout",
          "text": [
            "max = 3 \n",
            "min = 15\n"
          ]
        },
        {
          "output_type": "display_data",
          "data": {
            "text/plain": [
              "array([17,  3, 22, 19, 16, 11, 12, 29, 23, 21, 14, 34,  7,  1,  9,  8,  6,\n",
              "       20,  4, 32, 18, 28, 13, 33, 10, 24, 25,  0, 27, 26,  5, 31,  2, 30,\n",
              "       15])"
            ]
          },
          "metadata": {}
        }
      ],
      "source": [
        "print(\"Все числа больше 5\")\n",
        "display(v[v > 5])\n",
        "print('Все числа меньше 7 в обратном порядке')\n",
        "display(v[v < 7][::-1])\n",
        "print('Все числа больше 3, которые делятся на 4 без остатка')\n",
        "display(v[(v > 3) & (v % 4 == 0)])\n",
        "print('Все числа, остаток от деления на 5 которых равен 3')\n",
        "display(v[(v % 5 == 3)])\n",
        "print(\"max =\", v.argmin(),\"\\nmin =\", v.argmax())\n",
        "display(v.argsort(axis=None))"
      ]
    },
    {
      "cell_type": "markdown",
      "id": "pd7gVNl9zN-s",
      "metadata": {
        "id": "pd7gVNl9zN-s"
      },
      "source": [
        "Задание 7.\n",
        "\n",
        "Выполните следующие операции над вектором (независимо, не обязательно делать это в последовательности):\n",
        "* Умножьте его на 3\n",
        "* Разделите на 7\n",
        "* Возведите в степень $\\frac{2}{3}$\n",
        "* Посчитайте $\\sin$ от него\n",
        "* Посчитайте $\\log$ от него"
      ]
    },
    {
      "cell_type": "code",
      "execution_count": 241,
      "id": "iTQeUeJ2zNkz",
      "metadata": {
        "id": "iTQeUeJ2zNkz",
        "colab": {
          "base_uri": "https://localhost:8080/",
          "height": 790
        },
        "outputId": "ebb9afdd-022c-43a4-d6cc-8d608a1e46f7"
      },
      "outputs": [
        {
          "output_type": "display_data",
          "data": {
            "text/plain": [
              "array([[18,  6, 21,  0,  9, 21,  9],\n",
              "       [ 6,  9,  9, 15,  0,  3, 15],\n",
              "       [ 6, 24,  0,  0, 12,  0,  9],\n",
              "       [ 6,  0,  6, 15, 15, 21, 18],\n",
              "       [12,  6, 24, 21, 12, 15,  6]])"
            ]
          },
          "metadata": {}
        },
        {
          "output_type": "stream",
          "name": "stdout",
          "text": [
            "[[0.85714286 0.28571429 1.         0.         0.42857143 1.\n",
            "  0.42857143]\n",
            " [0.28571429 0.42857143 0.42857143 0.71428571 0.         0.14285714\n",
            "  0.71428571]\n",
            " [0.28571429 1.14285714 0.         0.         0.57142857 0.\n",
            "  0.42857143]\n",
            " [0.28571429 0.         0.28571429 0.71428571 0.71428571 1.\n",
            "  0.85714286]\n",
            " [0.57142857 0.28571429 1.14285714 1.         0.57142857 0.71428571\n",
            "  0.28571429]]\n"
          ]
        },
        {
          "output_type": "display_data",
          "data": {
            "text/plain": [
              "array([[3.30192725, 1.58740105, 3.65930571, 0.        , 2.08008382,\n",
              "        3.65930571, 2.08008382],\n",
              "       [1.58740105, 2.08008382, 2.08008382, 2.92401774, 0.        ,\n",
              "        1.        , 2.92401774],\n",
              "       [1.58740105, 4.        , 0.        , 0.        , 2.5198421 ,\n",
              "        0.        , 2.08008382],\n",
              "       [1.58740105, 0.        , 1.58740105, 2.92401774, 2.92401774,\n",
              "        3.65930571, 3.30192725],\n",
              "       [2.5198421 , 1.58740105, 4.        , 3.65930571, 2.5198421 ,\n",
              "        2.92401774, 1.58740105]])"
            ]
          },
          "metadata": {}
        },
        {
          "output_type": "stream",
          "name": "stdout",
          "text": [
            "[[-0.2794155   0.90929743  0.6569866   0.          0.14112001  0.6569866\n",
            "   0.14112001]\n",
            " [ 0.90929743  0.14112001  0.14112001 -0.95892427  0.          0.84147098\n",
            "  -0.95892427]\n",
            " [ 0.90929743  0.98935825  0.          0.         -0.7568025   0.\n",
            "   0.14112001]\n",
            " [ 0.90929743  0.          0.90929743 -0.95892427 -0.95892427  0.6569866\n",
            "  -0.2794155 ]\n",
            " [-0.7568025   0.90929743  0.98935825  0.6569866  -0.7568025  -0.95892427\n",
            "   0.90929743]]\n"
          ]
        },
        {
          "output_type": "stream",
          "name": "stderr",
          "text": [
            "/usr/local/lib/python3.7/dist-packages/ipykernel_launcher.py:5: RuntimeWarning: divide by zero encountered in log\n",
            "  \"\"\"\n"
          ]
        },
        {
          "output_type": "display_data",
          "data": {
            "text/plain": [
              "array([[1.79175947, 0.69314718, 1.94591015,       -inf, 1.09861229,\n",
              "        1.94591015, 1.09861229],\n",
              "       [0.69314718, 1.09861229, 1.09861229, 1.60943791,       -inf,\n",
              "        0.        , 1.60943791],\n",
              "       [0.69314718, 2.07944154,       -inf,       -inf, 1.38629436,\n",
              "              -inf, 1.09861229],\n",
              "       [0.69314718,       -inf, 0.69314718, 1.60943791, 1.60943791,\n",
              "        1.94591015, 1.79175947],\n",
              "       [1.38629436, 0.69314718, 2.07944154, 1.94591015, 1.38629436,\n",
              "        1.60943791, 0.69314718]])"
            ]
          },
          "metadata": {}
        }
      ],
      "source": [
        "display(v * 3)\n",
        "print(v / 7)\n",
        "display(v ** (2 / 3))\n",
        "print(np.sin(v))\n",
        "display(np.log(v))"
      ]
    },
    {
      "cell_type": "markdown",
      "id": "Njvzyat9w9Jw",
      "metadata": {
        "id": "Njvzyat9w9Jw"
      },
      "source": [
        "### Разные инициализации + индексирование (3 балла)"
      ]
    },
    {
      "cell_type": "markdown",
      "id": "IXB2M-hrB1C5",
      "metadata": {
        "id": "IXB2M-hrB1C5"
      },
      "source": [
        "Задание 8.\n",
        "\n",
        "Необходимо построить квадрат $3 \\times 3$ из нечётных чисел"
      ]
    },
    {
      "cell_type": "code",
      "execution_count": 242,
      "id": "0pnAlUNO8w1h",
      "metadata": {
        "id": "0pnAlUNO8w1h",
        "colab": {
          "base_uri": "https://localhost:8080/"
        },
        "outputId": "12916fa4-7978-466e-9cc9-2878f7241e44"
      },
      "outputs": [
        {
          "output_type": "execute_result",
          "data": {
            "text/plain": [
              "array([[ 1,  3,  5],\n",
              "       [ 7,  9, 11],\n",
              "       [13, 15, 17]])"
            ]
          },
          "metadata": {},
          "execution_count": 242
        }
      ],
      "source": [
        "np.arange(1, 18, 2).reshape(-1, 3)"
      ]
    },
    {
      "cell_type": "markdown",
      "id": "HmlcbwtOB5OT",
      "metadata": {
        "id": "HmlcbwtOB5OT"
      },
      "source": [
        "Задание 9.\n",
        "\n",
        "Необходимо построить квадрат $4 \\times 4$ из четных чисел в обратном порядке"
      ]
    },
    {
      "cell_type": "code",
      "execution_count": 243,
      "id": "W0lqLNBB81-U",
      "metadata": {
        "id": "W0lqLNBB81-U",
        "colab": {
          "base_uri": "https://localhost:8080/"
        },
        "outputId": "74deeaff-9449-4ce3-b969-5143ed2cdb39"
      },
      "outputs": [
        {
          "output_type": "execute_result",
          "data": {
            "text/plain": [
              "array([[32, 30, 28, 26],\n",
              "       [24, 22, 20, 18],\n",
              "       [16, 14, 12, 10],\n",
              "       [ 8,  6,  4,  2]])"
            ]
          },
          "metadata": {},
          "execution_count": 243
        }
      ],
      "source": [
        "np.arange(32, 0, -2).reshape(-1, 4)"
      ]
    },
    {
      "cell_type": "markdown",
      "id": "IeOvIqrFB8zI",
      "metadata": {
        "id": "IeOvIqrFB8zI"
      },
      "source": [
        "Задание 10.\n",
        "\n",
        "Необходимо построить сетку координат $11 \\times 11$ с точкой $(0,0)$ в центре и шагом $0.1$ между клетками"
      ]
    },
    {
      "cell_type": "code",
      "execution_count": 244,
      "id": "gXTZFQzd84lY",
      "metadata": {
        "id": "gXTZFQzd84lY",
        "colab": {
          "base_uri": "https://localhost:8080/"
        },
        "outputId": "708b2a8d-74de-4b31-9c88-2be6f32dfc2c"
      },
      "outputs": [
        {
          "output_type": "execute_result",
          "data": {
            "text/plain": [
              "array([[[-0.5,  0.5],\n",
              "        [-0.4,  0.5],\n",
              "        [-0.3,  0.5],\n",
              "        [-0.2,  0.5],\n",
              "        [-0.1,  0.5],\n",
              "        [ 0. ,  0.5],\n",
              "        [ 0.1,  0.5],\n",
              "        [ 0.2,  0.5],\n",
              "        [ 0.3,  0.5],\n",
              "        [ 0.4,  0.5],\n",
              "        [ 0.5,  0.5]],\n",
              "\n",
              "       [[-0.5,  0.4],\n",
              "        [-0.4,  0.4],\n",
              "        [-0.3,  0.4],\n",
              "        [-0.2,  0.4],\n",
              "        [-0.1,  0.4],\n",
              "        [ 0. ,  0.4],\n",
              "        [ 0.1,  0.4],\n",
              "        [ 0.2,  0.4],\n",
              "        [ 0.3,  0.4],\n",
              "        [ 0.4,  0.4],\n",
              "        [ 0.5,  0.4]],\n",
              "\n",
              "       [[-0.5,  0.3],\n",
              "        [-0.4,  0.3],\n",
              "        [-0.3,  0.3],\n",
              "        [-0.2,  0.3],\n",
              "        [-0.1,  0.3],\n",
              "        [ 0. ,  0.3],\n",
              "        [ 0.1,  0.3],\n",
              "        [ 0.2,  0.3],\n",
              "        [ 0.3,  0.3],\n",
              "        [ 0.4,  0.3],\n",
              "        [ 0.5,  0.3]],\n",
              "\n",
              "       [[-0.5,  0.2],\n",
              "        [-0.4,  0.2],\n",
              "        [-0.3,  0.2],\n",
              "        [-0.2,  0.2],\n",
              "        [-0.1,  0.2],\n",
              "        [ 0. ,  0.2],\n",
              "        [ 0.1,  0.2],\n",
              "        [ 0.2,  0.2],\n",
              "        [ 0.3,  0.2],\n",
              "        [ 0.4,  0.2],\n",
              "        [ 0.5,  0.2]],\n",
              "\n",
              "       [[-0.5,  0.1],\n",
              "        [-0.4,  0.1],\n",
              "        [-0.3,  0.1],\n",
              "        [-0.2,  0.1],\n",
              "        [-0.1,  0.1],\n",
              "        [ 0. ,  0.1],\n",
              "        [ 0.1,  0.1],\n",
              "        [ 0.2,  0.1],\n",
              "        [ 0.3,  0.1],\n",
              "        [ 0.4,  0.1],\n",
              "        [ 0.5,  0.1]],\n",
              "\n",
              "       [[-0.5,  0. ],\n",
              "        [-0.4,  0. ],\n",
              "        [-0.3,  0. ],\n",
              "        [-0.2,  0. ],\n",
              "        [-0.1,  0. ],\n",
              "        [ 0. ,  0. ],\n",
              "        [ 0.1,  0. ],\n",
              "        [ 0.2,  0. ],\n",
              "        [ 0.3,  0. ],\n",
              "        [ 0.4,  0. ],\n",
              "        [ 0.5,  0. ]],\n",
              "\n",
              "       [[-0.5, -0.1],\n",
              "        [-0.4, -0.1],\n",
              "        [-0.3, -0.1],\n",
              "        [-0.2, -0.1],\n",
              "        [-0.1, -0.1],\n",
              "        [ 0. , -0.1],\n",
              "        [ 0.1, -0.1],\n",
              "        [ 0.2, -0.1],\n",
              "        [ 0.3, -0.1],\n",
              "        [ 0.4, -0.1],\n",
              "        [ 0.5, -0.1]],\n",
              "\n",
              "       [[-0.5, -0.2],\n",
              "        [-0.4, -0.2],\n",
              "        [-0.3, -0.2],\n",
              "        [-0.2, -0.2],\n",
              "        [-0.1, -0.2],\n",
              "        [ 0. , -0.2],\n",
              "        [ 0.1, -0.2],\n",
              "        [ 0.2, -0.2],\n",
              "        [ 0.3, -0.2],\n",
              "        [ 0.4, -0.2],\n",
              "        [ 0.5, -0.2]],\n",
              "\n",
              "       [[-0.5, -0.3],\n",
              "        [-0.4, -0.3],\n",
              "        [-0.3, -0.3],\n",
              "        [-0.2, -0.3],\n",
              "        [-0.1, -0.3],\n",
              "        [ 0. , -0.3],\n",
              "        [ 0.1, -0.3],\n",
              "        [ 0.2, -0.3],\n",
              "        [ 0.3, -0.3],\n",
              "        [ 0.4, -0.3],\n",
              "        [ 0.5, -0.3]],\n",
              "\n",
              "       [[-0.5, -0.4],\n",
              "        [-0.4, -0.4],\n",
              "        [-0.3, -0.4],\n",
              "        [-0.2, -0.4],\n",
              "        [-0.1, -0.4],\n",
              "        [ 0. , -0.4],\n",
              "        [ 0.1, -0.4],\n",
              "        [ 0.2, -0.4],\n",
              "        [ 0.3, -0.4],\n",
              "        [ 0.4, -0.4],\n",
              "        [ 0.5, -0.4]],\n",
              "\n",
              "       [[-0.5, -0.5],\n",
              "        [-0.4, -0.5],\n",
              "        [-0.3, -0.5],\n",
              "        [-0.2, -0.5],\n",
              "        [-0.1, -0.5],\n",
              "        [ 0. , -0.5],\n",
              "        [ 0.1, -0.5],\n",
              "        [ 0.2, -0.5],\n",
              "        [ 0.3, -0.5],\n",
              "        [ 0.4, -0.5],\n",
              "        [ 0.5, -0.5]]])"
            ]
          },
          "metadata": {},
          "execution_count": 244
        }
      ],
      "source": [
        "a = np.c_[np.tile(np.arange(-5, 6, 1)/10, 11), np.repeat(np.arange(5, -6, -1)/10, 11)]\n",
        "a.reshape(11, 11, -1)"
      ]
    },
    {
      "cell_type": "markdown",
      "id": "BQD_BNN-CqCm",
      "metadata": {
        "id": "BQD_BNN-CqCm"
      },
      "source": [
        "Задание 11.\n",
        "\n",
        "Замощение сетки $8\\times8$ при помощи $0$ и $1$ в шахматном порядке, клетка с индексом $(0,0)$ замощается $1$"
      ]
    },
    {
      "cell_type": "code",
      "execution_count": 14,
      "id": "whMdrRLx9G8Y",
      "metadata": {
        "id": "whMdrRLx9G8Y",
        "colab": {
          "base_uri": "https://localhost:8080/"
        },
        "outputId": "d7ba2b74-ecdc-482f-ef24-ef61b7ca391d"
      },
      "outputs": [
        {
          "output_type": "stream",
          "name": "stdout",
          "text": [
            "[[1 0 1 0 1 0 1 0]\n",
            " [0 1 0 1 0 1 0 1]\n",
            " [1 0 1 0 1 0 1 0]\n",
            " [0 1 0 1 0 1 0 1]\n",
            " [1 0 1 0 1 0 1 0]\n",
            " [0 1 0 1 0 1 0 1]\n",
            " [1 0 1 0 1 0 1 0]\n",
            " [0 1 0 1 0 1 0 1]]\n"
          ]
        }
      ],
      "source": [
        "ox = np.arange(0, 8, 1).reshape(8, -1)\n",
        "oy = np.arange(1, 9, 1).reshape(1, -1)\n",
        "print((ox+oy)%2)"
      ]
    },
    {
      "cell_type": "markdown",
      "id": "5tl1is5hCxH7",
      "metadata": {
        "id": "5tl1is5hCxH7"
      },
      "source": [
        "Задание 12.\n",
        "\n",
        "То же замощение, но клетка с индексом $(0,0)$ замощается $0$"
      ]
    },
    {
      "cell_type": "code",
      "execution_count": 15,
      "id": "TP8Risy79TkG",
      "metadata": {
        "id": "TP8Risy79TkG",
        "colab": {
          "base_uri": "https://localhost:8080/"
        },
        "outputId": "4744c82a-2a74-466b-e7ed-c24c7a3da5e7"
      },
      "outputs": [
        {
          "output_type": "execute_result",
          "data": {
            "text/plain": [
              "array([[0, 1, 0, 1, 0, 1, 0, 1],\n",
              "       [1, 0, 1, 0, 1, 0, 1, 0],\n",
              "       [0, 1, 0, 1, 0, 1, 0, 1],\n",
              "       [1, 0, 1, 0, 1, 0, 1, 0],\n",
              "       [0, 1, 0, 1, 0, 1, 0, 1],\n",
              "       [1, 0, 1, 0, 1, 0, 1, 0],\n",
              "       [0, 1, 0, 1, 0, 1, 0, 1],\n",
              "       [1, 0, 1, 0, 1, 0, 1, 0]])"
            ]
          },
          "metadata": {},
          "execution_count": 15
        }
      ],
      "source": [
        "np.tile(np.array([[0,1],[1,0]]), (4,4))"
      ]
    },
    {
      "cell_type": "markdown",
      "id": "xwut71HZC401",
      "metadata": {
        "id": "xwut71HZC401"
      },
      "source": [
        "Задание 13.\n",
        "\n",
        "Необходимо построить нижне-треугольную матрицу переменного размера (задается передачей параметра в функцию). Это единичная матрица,замощённая $1$ под главной диагональю"
      ]
    },
    {
      "cell_type": "code",
      "execution_count": 245,
      "id": "f819Rv2uxDOz",
      "metadata": {
        "id": "f819Rv2uxDOz",
        "colab": {
          "base_uri": "https://localhost:8080/"
        },
        "outputId": "fdbd507d-c066-47de-e858-11009b833edd"
      },
      "outputs": [
        {
          "output_type": "execute_result",
          "data": {
            "text/plain": [
              "array([[1, 0, 0, 0, 0],\n",
              "       [1, 1, 0, 0, 0],\n",
              "       [1, 1, 1, 0, 0],\n",
              "       [1, 1, 1, 1, 0],\n",
              "       [1, 1, 1, 1, 1]])"
            ]
          },
          "metadata": {},
          "execution_count": 245
        }
      ],
      "source": [
        "def LowerTriangle(n=1):\n",
        "  A = np.arange(0, n * n).reshape(n, n)\n",
        "  return (A % n <= ( A // n)) % 2\n",
        "LowerTriangle(5)"
      ]
    },
    {
      "cell_type": "markdown",
      "id": "vhkgdaj3DGGr",
      "metadata": {
        "id": "vhkgdaj3DGGr"
      },
      "source": [
        "Задание 14.\n",
        "\n",
        "Необходимо построить верхне-треугольную матрицу переменного размера. Это единичная матрица, замощённая $1$ над главной диагональю"
      ]
    },
    {
      "cell_type": "code",
      "execution_count": 246,
      "id": "bwsDUhYT9kP0",
      "metadata": {
        "id": "bwsDUhYT9kP0",
        "colab": {
          "base_uri": "https://localhost:8080/"
        },
        "outputId": "2ab891b3-0d21-47cd-f39c-f7956ddc2ac0"
      },
      "outputs": [
        {
          "output_type": "execute_result",
          "data": {
            "text/plain": [
              "array([[1, 1, 1, 1, 1],\n",
              "       [0, 1, 1, 1, 1],\n",
              "       [0, 0, 1, 1, 1],\n",
              "       [0, 0, 0, 1, 1],\n",
              "       [0, 0, 0, 0, 1]])"
            ]
          },
          "metadata": {},
          "execution_count": 246
        }
      ],
      "source": [
        "def LowerTriangle(n=1):\n",
        "  A = np.arange(0, n * n).reshape(n, n)\n",
        "  return (A % n >= ( A // n)) % 2\n",
        "LowerTriangle(5)"
      ]
    },
    {
      "cell_type": "markdown",
      "id": "L2HbqtTjDM1a",
      "metadata": {
        "id": "L2HbqtTjDM1a"
      },
      "source": [
        "Задание 15.\n",
        "\n",
        "Необходимо построить матрицу, в которой единицы стоят на побочной диагонали (идущей из левого нижнего угла в правый верхний), в остальных местах стоят $0$"
      ]
    },
    {
      "cell_type": "code",
      "execution_count": 18,
      "id": "vM6ez-K69to2",
      "metadata": {
        "id": "vM6ez-K69to2",
        "colab": {
          "base_uri": "https://localhost:8080/"
        },
        "outputId": "90ec2ac1-fa87-4f85-ea8d-f70d10de5f7c"
      },
      "outputs": [
        {
          "output_type": "execute_result",
          "data": {
            "text/plain": [
              "array([[0., 0., 0., 0., 1.],\n",
              "       [0., 0., 0., 1., 0.],\n",
              "       [0., 0., 1., 0., 0.],\n",
              "       [0., 1., 0., 0., 0.],\n",
              "       [1., 0., 0., 0., 0.]])"
            ]
          },
          "metadata": {},
          "execution_count": 18
        }
      ],
      "source": [
        "def EyeTransposed(n=1):\n",
        "  A = np.eye(n)\n",
        "  return np.rot90(A)\n",
        "EyeTransposed(5)"
      ]
    },
    {
      "cell_type": "markdown",
      "id": "xeL6jav0w0U-",
      "metadata": {
        "id": "xeL6jav0w0U-"
      },
      "source": [
        "### Операции + аггрегации (3 балла)"
      ]
    },
    {
      "cell_type": "markdown",
      "id": "vOPIAFopHUKs",
      "metadata": {
        "id": "vOPIAFopHUKs"
      },
      "source": [
        "Задание 16.\n",
        "\n",
        "Дана выборка $\\{X_i\\}$ некоторой случайной величины $X$, необходимо оценить\n",
        "* Математическое ожидание $E[X] = \\frac{1}{N}\\sum_{i=1}^N X_i$ этой случайной величины\n",
        "* Дисперсию $D[X] = \\frac{1}{N}\\sum_{i=1}^N (X_i - E[X])^2$ этой случайной величины"
      ]
    },
    {
      "cell_type": "code",
      "execution_count": 247,
      "id": "uHQ-DiR4JB0p",
      "metadata": {
        "id": "uHQ-DiR4JB0p"
      },
      "outputs": [],
      "source": [
        "def expected_value(x):\n",
        "    assert len(x) > 0\n",
        "    return sum(x) / len(x)\n",
        "\n",
        "\n",
        "def dispersion(x):\n",
        "    assert len(x) > 0\n",
        "    d = 0\n",
        "    e = expected_value(x)\n",
        "    for x_i in x:\n",
        "        d += (x_i - e) ** 2\n",
        "    return d / len(x)"
      ]
    },
    {
      "cell_type": "code",
      "execution_count": 248,
      "id": "XVFo8hitHSav",
      "metadata": {
        "id": "XVFo8hitHSav"
      },
      "outputs": [],
      "source": [
        "def expected_value_np(x):\n",
        "    return np.mean(x)"
      ]
    },
    {
      "cell_type": "code",
      "execution_count": 249,
      "id": "f2jCC5EjJkl0",
      "metadata": {
        "id": "f2jCC5EjJkl0"
      },
      "outputs": [],
      "source": [
        "def dispersion_np(x):\n",
        "    return np.var(x)"
      ]
    },
    {
      "cell_type": "code",
      "execution_count": 250,
      "id": "dEGp_cuFJoX9",
      "metadata": {
        "id": "dEGp_cuFJoX9"
      },
      "outputs": [],
      "source": [
        "np.testing.assert_array_equal(expected_value([1]), expected_value_np(np.array([1])))\n",
        "np.testing.assert_array_equal(expected_value([3, 4]), expected_value_np(np.array([3, 4])))\n",
        "np.testing.assert_array_equal(expected_value([-1, 0, 1]), expected_value_np(np.array([-1, 0, 1])))\n",
        "np.testing.assert_array_equal(expected_value([-99, -98]), expected_value_np(np.array([-99, -98])))\n",
        "\n",
        "np.testing.assert_array_equal(dispersion([1]), dispersion_np(np.array([1])))\n",
        "np.testing.assert_array_equal(dispersion([3, 4]), dispersion_np(np.array([3, 4])))\n",
        "np.testing.assert_array_equal(dispersion([-1, 0, 1]), dispersion_np(np.array([-1, 0, 1])))\n",
        "np.testing.assert_array_equal(dispersion([-99, -98]), dispersion_np(np.array([-99, -98])))"
      ]
    },
    {
      "cell_type": "markdown",
      "id": "BO9aCDmYBf1R",
      "metadata": {
        "id": "BO9aCDmYBf1R"
      },
      "source": [
        "Задание 17.\n",
        "\n",
        "Даны два вектора $y_1$ и $y_2$, нужно посчитать среднее арифметическое квадратов разностей их значений"
      ]
    },
    {
      "cell_type": "code",
      "execution_count": 251,
      "id": "5ZgYjfj5KW4g",
      "metadata": {
        "id": "5ZgYjfj5KW4g"
      },
      "outputs": [],
      "source": [
        "def mean_square_difference(y1, y2):\n",
        "    assert len(y1) == len(y2) and len(y1) > 0\n",
        "    # Здесь и далее эти проверки !не нужно! дублировать в свои функции; Здесь они для того, чтобы лишний раз подчеркнуть валидность входных данных\n",
        "    s = 0\n",
        "    for i in range(len(y1)):\n",
        "        s += (y1[i] - y2[i]) ** 2\n",
        "    return s / len(y1)"
      ]
    },
    {
      "cell_type": "code",
      "execution_count": 252,
      "id": "r3kxTnLlw7dA",
      "metadata": {
        "id": "r3kxTnLlw7dA"
      },
      "outputs": [],
      "source": [
        "def mean_square_difference_np(y1, y2):\n",
        "    return (((y1-y2)**2).sum()) / len(y1)"
      ]
    },
    {
      "cell_type": "code",
      "execution_count": 253,
      "id": "CVuNT_iRKrFM",
      "metadata": {
        "id": "CVuNT_iRKrFM"
      },
      "outputs": [],
      "source": [
        "assert mean_square_difference([1], [1]) == mean_square_difference_np(np.array([1]), np.array([1]))\n",
        "assert mean_square_difference([1, 2], [1, 2]) == mean_square_difference_np(np.array([1, 2]), np.array([1, 2]))\n",
        "assert mean_square_difference([-1, 1], [0, 0]) == mean_square_difference_np(np.array([-1, 1]), np.array([0, 0]))\n",
        "assert mean_square_difference([-3, -2, 0, 1, 4], [-2, -2, -1, -1, 5]) == mean_square_difference_np(np.array([-3, -2, 0, 1, 4]), np.array([-2, -2, -1, -1, 5]))"
      ]
    },
    {
      "cell_type": "markdown",
      "id": "FlYEqBJuBeX_",
      "metadata": {
        "id": "FlYEqBJuBeX_"
      },
      "source": [
        "Задание 18.\n",
        "\n",
        "Даны два вектора $y_1$ и $y_2$, нужно посчитать среднее арифметическое модулей разностей их значений"
      ]
    },
    {
      "cell_type": "code",
      "execution_count": 254,
      "id": "YYFm_USNLR0g",
      "metadata": {
        "id": "YYFm_USNLR0g"
      },
      "outputs": [],
      "source": [
        "def mean_abs_difference(y1, y2):\n",
        "    assert len(y1) == len(y2) and len(y1) > 0\n",
        "    s = 0\n",
        "    for i in range(len(y1)):\n",
        "        s += abs(y1[i] - y2[i])\n",
        "    return s / len(y1)"
      ]
    },
    {
      "cell_type": "code",
      "execution_count": 255,
      "id": "YND9wAXGLSrU",
      "metadata": {
        "id": "YND9wAXGLSrU"
      },
      "outputs": [],
      "source": [
        "def mean_abs_difference_np(y1, y2):\n",
        "    return abs(y1 - y2).sum() / len(y1)"
      ]
    },
    {
      "cell_type": "code",
      "execution_count": 256,
      "id": "a6AVnlOp-N_E",
      "metadata": {
        "id": "a6AVnlOp-N_E"
      },
      "outputs": [],
      "source": [
        "assert mean_abs_difference([1], [1]) == mean_abs_difference_np(np.array([1]), np.array([1]))\n",
        "assert mean_abs_difference([1, 2], [1, 2]) == mean_abs_difference_np(np.array([1, 2]), np.array([1, 2]))\n",
        "assert mean_abs_difference([-1, 1], [0, 0]) == mean_abs_difference_np(np.array([-1, 1]), np.array([0, 0]))\n",
        "assert mean_abs_difference([-3, -2, 0, 1, 4], [-2, -2, -1, -1, 5]) == mean_abs_difference_np(np.array([-3, -2, 0, 1, 4]), np.array([-2, -2, -1, -1, 5]))"
      ]
    },
    {
      "cell_type": "markdown",
      "id": "MCJcY2TDBVX2",
      "metadata": {
        "id": "MCJcY2TDBVX2"
      },
      "source": [
        "Задание 19.\n",
        "\n",
        "Даны два вектора $y_1$ и $y_2$, в которых присутствуют только $0$ и $1$. Необходимо посчитать вероятность совпадения - в скольких точках значения двух векторов совпадают"
      ]
    },
    {
      "cell_type": "code",
      "execution_count": 257,
      "id": "MFRHNu3RLdAM",
      "metadata": {
        "id": "MFRHNu3RLdAM"
      },
      "outputs": [],
      "source": [
        "def matching_proba(y1, y2):\n",
        "    assert len(y1) == len(y2) and len(y1) > 0\n",
        "    assert len(set(y1)) <= 2\n",
        "    assert len(set(y2)) <= 2\n",
        "    assert 0 in set(y1) or 1 in set(y1) or (0 in set(y1) and 1 in set(y1))\n",
        "    assert 0 in set(y2) or 1 in set(y2) or (0 in set(y2) and 1 in set(y2))\n",
        "\n",
        "    return sum([y1[i] == y2[i] for i in range(len(y1))]) / len(y1)"
      ]
    },
    {
      "cell_type": "code",
      "execution_count": 258,
      "id": "C48P4bQBMnZQ",
      "metadata": {
        "id": "C48P4bQBMnZQ"
      },
      "outputs": [],
      "source": [
        "def matching_proba_np(y1, y2):\n",
        "    return  sum(y1 == y2) / len(y1)"
      ]
    },
    {
      "cell_type": "code",
      "execution_count": 259,
      "id": "-DDiBxPEMZwu",
      "metadata": {
        "id": "-DDiBxPEMZwu"
      },
      "outputs": [],
      "source": [
        "np.testing.assert_array_equal(matching_proba([0, 1], [1, 0]), matching_proba_np(np.array([0, 1]), np.array([1, 0])))\n",
        "np.testing.assert_array_equal(matching_proba([0, 1, 0, 1], [0, 0, 1, 1]), matching_proba_np(np.array([0, 1, 0, 1]), np.array([0, 0, 1, 1])))\n",
        "np.testing.assert_array_equal(matching_proba([0, 0, 1, 1], [0, 0, 1, 1]), matching_proba_np(np.array([0, 0, 1, 1]), np.array([0, 0, 1, 1])))"
      ]
    },
    {
      "cell_type": "markdown",
      "id": "F_a98XRF_WnS",
      "metadata": {
        "id": "F_a98XRF_WnS"
      },
      "source": [
        "Задание 20.\n",
        "\n",
        "Даны два вектора: $y_1$, $y_2$. В $y_1$ и $y_2$ присутствуют только $0$ и $1$.\n",
        "\n",
        "Необходимо найти границы (индексы), такие, что если мы разделим вдоль какой-то из этих границ оба вектора на две части, то\n",
        "* в левой части пересекающихся в $y_1$ и $y_2$ нулей будет строго больше, чем пересекающихся единиц или непересекающихся элементов\n",
        "* в правой - пересекающихся единиц строго больше, чем пересекающихся нулей или непересекающихся элементов.\n",
        "\n",
        "Если какая-то из частей не содержит элементов вовсе, то будем считать, что она подходит под условие."
      ]
    },
    {
      "cell_type": "code",
      "execution_count": 260,
      "id": "b6FUo3G_NDge",
      "metadata": {
        "id": "b6FUo3G_NDge"
      },
      "outputs": [],
      "source": [
        "def find_thresholds(y1, y2, debug=False):\n",
        "    assert len(y1) == len(y2) and len(y1) > 0\n",
        "    n = len(y1)\n",
        "    matching_zeros = [1 if y1[i] == y2[i] == 0 else 0 for i in range(n)]\n",
        "    matching_ones = [1 if y1[i] == y2[i] == 1 else 0 for i in range(n)]\n",
        "    res = []\n",
        "    if sum(matching_ones) / n > 0.5:\n",
        "        res.append(0)\n",
        "    for i in range(1, n):\n",
        "        if debug: # если вам непонятна логика работы этой функции, передайте третьим аргументом True\n",
        "            print(matching_zeros[:i], matching_ones[i:], i)\n",
        "        if sum(matching_zeros[:i]) / i > 0.5 and sum(matching_ones[i:]) / (n - i) > 0.5:\n",
        "            res.append(i)\n",
        "    if sum(matching_zeros) / n > 0.5:\n",
        "        res.append(n)\n",
        "    return res"
      ]
    },
    {
      "cell_type": "code",
      "execution_count": 261,
      "id": "aD34QrPrReVK",
      "metadata": {
        "id": "aD34QrPrReVK"
      },
      "outputs": [],
      "source": [
        "def find_thresholds_np(y1, y2):\n",
        "    n = len(y1)\n",
        "    # Массив где на i-ой позиции стоит число равное количеству нулей на отрезке [0,i+1) деленое на i+1 (не считаем только левую и только правые части)\n",
        "    lookZerous = (np.arange(1, n + 1) - np.cumsum(y1 | y2))[:-1] / np.arange(1, n)\n",
        "    # Массив где на i-ой позиции стоит число равное количеству единий на отрезке [i+1, n) деленое на n - i - 1 (не считаем только левую и только правые части)\n",
        "    lookOnes = (max(np.cumsum(y1 & y2)) - np.cumsum(y1 & y2))[:-1] / np.arange(n - 1, 0, -1)\n",
        "    # Берем удовлетворяющие двум условиям левому и правому\n",
        "    answ_pred = ((lookZerous>0.5) & (lookOnes>0.5)) * np.arange(1, n)\n",
        "    answ = list(answ_pred[answ_pred>0])\n",
        "    # считаем, если только левая и только правая часть\n",
        "    if (max(np.cumsum(y1 & y2))/n > 0.5):\n",
        "        answ = [0]+answ\n",
        "    if max(np.arange(1, n + 1) - np.cumsum(y1 | y2))/n > 0.5:\n",
        "        answ += [n]\n",
        "    return answ"
      ]
    },
    {
      "cell_type": "code",
      "execution_count": 262,
      "id": "oSSMaAp3PT-R",
      "metadata": {
        "id": "oSSMaAp3PT-R"
      },
      "outputs": [],
      "source": [
        "np.testing.assert_array_equal(find_thresholds([0], [0]), find_thresholds_np(np.array([0]), np.array([0])))\n",
        "np.testing.assert_array_equal(find_thresholds([1], [1]), find_thresholds_np(np.array([1]), np.array([1])))\n",
        "np.testing.assert_array_equal(\n",
        "    find_thresholds([0, 0, 1, 1], [0, 0, 1, 1]), \n",
        "    find_thresholds_np(np.array([0, 0, 1, 1]), np.array([0, 0, 1, 1]))\n",
        ")\n",
        "np.testing.assert_array_equal(\n",
        "    find_thresholds([0, 0, 1, 0, 0, 1, 1, 1], [0, 0, 0, 0, 0, 1, 1, 1]),\n",
        "    find_thresholds_np(np.array([0, 0, 1, 0, 0, 1, 1, 1]), np.array([0, 0, 0, 0, 0, 1, 1, 1]))\n",
        ")"
      ]
    },
    {
      "cell_type": "markdown",
      "id": "QzL-JrqmxD8s",
      "metadata": {
        "id": "QzL-JrqmxD8s"
      },
      "source": [
        "### Разные действия с матрицами (3 балла)"
      ]
    },
    {
      "cell_type": "markdown",
      "id": "8cRkht0DTyJm",
      "metadata": {
        "id": "8cRkht0DTyJm"
      },
      "source": [
        "Задание 21.\n",
        "\n",
        "Дана матрица размера $(32, 3, 16, 16)$, заполненная случайными числами от 0 до 9. При помощи **ровно двух** преобразований приведите её к виду $(32, 1)$. При выполнении задания **можно** создавать вспомогательные матрицы!"
      ]
    },
    {
      "cell_type": "code",
      "execution_count": 263,
      "id": "XiBftUkYUJHx",
      "metadata": {
        "id": "XiBftUkYUJHx"
      },
      "outputs": [],
      "source": [
        "data = np.random.randint(0, 10, size=(32, 3, 16, 16))\n",
        "b = np.random.randint(0, 10, size=(3 * 16 * 16, 1))\n",
        "data = np.matmul(data.reshape(32, -1), b)\n",
        "assert data.shape == (32, 1)"
      ]
    },
    {
      "cell_type": "markdown",
      "id": "BlZrnx1TU3Oe",
      "metadata": {
        "id": "BlZrnx1TU3Oe"
      },
      "source": [
        "Задание 22.\n",
        "\n",
        "Даны две матрицы $m_1$ размером $(32, 256)$ и $m_2$ размером $(32, 512)$, а также две вспомогательные матрицы $W_1$ размером $(256, 32)$ и $W_2$ размером $(512, 16)$. Используя **все** данные матрицы, сделайте так, чтобы на выходе получилась **ровно одна** матрица размером $(32, 32)$"
      ]
    },
    {
      "cell_type": "code",
      "execution_count": 264,
      "id": "XiQOLjOgxENb",
      "metadata": {
        "id": "XiQOLjOgxENb"
      },
      "outputs": [],
      "source": [
        "m1 = np.random.randint(0, 10, size=(32, 256))\n",
        "m2 = np.random.randint(0, 10, size=(32, 512))\n",
        "W1 = np.random.randint(0, 10, size=(256, 32))\n",
        "W2 = np.random.randint(0, 10, size=(512, 16))\n",
        "\n",
        "result = np.matmul(np.matmul(m1, W1), np.matmul(m2, np.hstack((W2, W2))))\n",
        "\n",
        "assert result.shape == (32, 32)"
      ]
    },
    {
      "cell_type": "markdown",
      "id": "dGTtWMlOWSyr",
      "metadata": {
        "id": "dGTtWMlOWSyr"
      },
      "source": [
        "Задание 23.\n",
        "\n",
        "Приведите полученную на последнем шаге матрицу к виду $(32, 3)$ и сделайте так, чтобы все значения в этой матрице были в промежутке от $0$ до $1$"
      ]
    },
    {
      "cell_type": "code",
      "execution_count": 265,
      "id": "JM1Ngv6oWSZE",
      "metadata": {
        "id": "JM1Ngv6oWSZE"
      },
      "outputs": [],
      "source": [
        "# Вжух! (∩｀-´)⊃━☆ﾟ.*･｡ﾟ\n",
        "result = np.matmul(result, np.random.randint(0, 10, size=(32, 3))) % 2\n",
        "\n",
        "assert result.shape == (32, 3)\n",
        "assert ((result >= 0) & (result <= 1)).all()"
      ]
    }
  ],
  "metadata": {
    "colab": {
      "collapsed_sections": [],
      "name": "homework_1.ipynb",
      "provenance": []
    },
    "kernelspec": {
      "display_name": "Python 3",
      "language": "python",
      "name": "python3"
    },
    "language_info": {
      "codemirror_mode": {
        "name": "ipython",
        "version": 3
      },
      "file_extension": ".py",
      "mimetype": "text/x-python",
      "name": "python",
      "nbconvert_exporter": "python",
      "pygments_lexer": "ipython3",
      "version": "3.7.10"
    }
  },
  "nbformat": 4,
  "nbformat_minor": 5
}